{
 "cells": [
  {
   "cell_type": "code",
   "execution_count": 1,
   "metadata": {
    "collapsed": false
   },
   "outputs": [
    {
     "name": "stdout",
     "output_type": "stream",
     "text": [
      "Populating the interactive namespace from numpy and matplotlib\n"
     ]
    }
   ],
   "source": [
    "from pandas import Series, DataFrame\n",
    "import pandas as pd\n",
    "import nltk\n",
    "%pylab inline "
   ]
  },
  {
   "cell_type": "code",
   "execution_count": 50,
   "metadata": {
    "collapsed": false
   },
   "outputs": [],
   "source": [
    "train = pd.read_csv(\"..\\..\\Assignments\\Assignment1\\Train_rev1.csv\")\n",
    "#train[:3]"
   ]
  },
  {
   "cell_type": "code",
   "execution_count": 51,
   "metadata": {
    "collapsed": true
   },
   "outputs": [],
   "source": [
    "train_sample = train.sample(200000).reset_index() # Creates sample of 1000 job descriptions"
   ]
  },
  {
   "cell_type": "markdown",
   "metadata": {},
   "source": [
    "# Part A (Basic Text Mining)"
   ]
  },
  {
   "cell_type": "code",
   "execution_count": 5,
   "metadata": {
    "collapsed": false
   },
   "outputs": [],
   "source": [
    "# Tokenize all job descriptions\n",
    "train_sample['tokenized_strip'] = train_sample.apply(lambda row: row['FullDescription'].decode('utf-8').strip(),axis=1)\n",
    "train_sample['tokenized'] = train_sample.apply(lambda row: nltk.word_tokenize(row['tokenized_strip']),axis=1)"
   ]
  },
  {
   "cell_type": "code",
   "execution_count": 6,
   "metadata": {
    "collapsed": false
   },
   "outputs": [],
   "source": [
    "# Get part of speech tags for each token in each description\n",
    "train_sample['PoS'] = train_sample.apply(lambda row: nltk.pos_tag(row['tokenized']), axis=1)"
   ]
  },
  {
   "cell_type": "markdown",
   "metadata": {},
   "source": [
    "## A1. Top 5 Parts of Speech in Corpus"
   ]
  },
  {
   "cell_type": "code",
   "execution_count": 7,
   "metadata": {
    "collapsed": false
   },
   "outputs": [],
   "source": [
    "# Create list of all tokens in corpus\n",
    "all_tokens = []\n",
    "for i in range(len(train_sample['tokenized'])):\n",
    "    all_tokens = all_tokens + train_sample['tokenized'][i]"
   ]
  },
  {
   "cell_type": "code",
   "execution_count": 8,
   "metadata": {
    "collapsed": false
   },
   "outputs": [],
   "source": [
    "# Get part of speech tags for all tokens in corpus\n",
    "all_PoS = nltk.pos_tag(all_tokens)"
   ]
  },
  {
   "cell_type": "code",
   "execution_count": 9,
   "metadata": {
    "collapsed": false
   },
   "outputs": [
    {
     "data": {
      "text/plain": [
       "[('NN', 45695), ('NNP', 35081), ('IN', 26039), ('JJ', 21797), ('DT', 20048)]"
      ]
     },
     "execution_count": 9,
     "metadata": {},
     "output_type": "execute_result"
    }
   ],
   "source": [
    "tokens, PoS = zip(*all_PoS) # Unzip all_PoS to separate list of tokens from list of parts of speech\n",
    "PoS_freq = nltk.FreqDist(PoS) # Frequency of each part of speech\n",
    "top5_PoS = PoS_freq.most_common()[:5] # 5 most frequent parts of speech in corpus\n",
    "top5_PoS"
   ]
  },
  {
   "cell_type": "markdown",
   "metadata": {},
   "source": [
    "The 5 most common parts of speech in this corpus along with their respective frequencies are:\n",
    "1. Noun, singular or mass: 46,389\n",
    "2. Proper noun, singular: 33,742\n",
    "3. Preposition or Subordinating Conjunction: 25,724\n",
    "4. Adjective: 22,063\n",
    "5. Determiner: 20,188"
   ]
  },
  {
   "cell_type": "markdown",
   "metadata": {},
   "source": [
    "## A2. Zipf's Law, 100 Most Common Words"
   ]
  },
  {
   "cell_type": "code",
   "execution_count": 10,
   "metadata": {
    "collapsed": true
   },
   "outputs": [],
   "source": [
    "from nltk.tokenize import RegexpTokenizer\n",
    "word_tokenizer = RegexpTokenizer(r'\\w+')\n",
    "\n",
    "# Get list of words without punctuation for each job description\n",
    "train_sample['tokenized_words'] = train_sample.apply(lambda row: word_tokenizer.tokenize(row['tokenized_strip']),axis=1)\n",
    "\n",
    "# Create list of words from all job descriptions\n",
    "all_words = []\n",
    "for i in range(len(train_sample['tokenized_words'])):\n",
    "    all_words = all_words + train_sample['tokenized_words'][i]\n",
    "\n",
    "# Make all words lowercase\n",
    "words_lower = []\n",
    "for word in all_words:\n",
    "    words_lower.append(word.lower())"
   ]
  },
  {
   "cell_type": "code",
   "execution_count": 11,
   "metadata": {
    "collapsed": false
   },
   "outputs": [
    {
     "data": {
      "text/plain": [
       "<matplotlib.text.Text at 0x1a143c88>"
      ]
     },
     "execution_count": 11,
     "metadata": {},
     "output_type": "execute_result"
    },
    {
     "data": {
      "image/png": "[encoded data removed]",
      "text/plain": [
       "<matplotlib.figure.Figure at 0x33204c18>"
      ]
     },
     "metadata": {},
     "output_type": "display_data"
    }
   ],
   "source": [
    "# Find 100 most frequent words\n",
    "words_freq = nltk.FreqDist(words_lower)\n",
    "top100_words = words_freq.most_common()[:100]\n",
    "\n",
    "# Get values for expected frequency of top 100 words using Zipf's Law\n",
    "max_freq = top100_words[0][1]\n",
    "counter = 1\n",
    "zipf = []\n",
    "while len(zipf) < 100:\n",
    "    zipf.append(max_freq/counter)\n",
    "    counter += 1\n",
    "\n",
    "# Plot actual frequencies and Zipf frequencies\n",
    "plot([b for (a,b) in top100_words], label = 'Word Frequency') # Blue\n",
    "plot(zipf, label = 'Zipf Predicted Frequency') # Green\n",
    "legend(loc='best')\n",
    "xlabel('Rank')\n",
    "ylabel('Frequency')"
   ]
  },
  {
   "cell_type": "markdown",
   "metadata": {},
   "source": [
    "## Top 10 Words after Stemming and Removing Stop Words"
   ]
  },
  {
   "cell_type": "code",
   "execution_count": 12,
   "metadata": {
    "collapsed": false
   },
   "outputs": [],
   "source": [
    "# Remove stop words\n",
    "from nltk.corpus import stopwords\n",
    "no_stops_words = [word for word in words_lower if word not in stopwords.words('english')]"
   ]
  },
  {
   "cell_type": "code",
   "execution_count": 13,
   "metadata": {
    "collapsed": false
   },
   "outputs": [],
   "source": [
    "from nltk.stem.porter import PorterStemmer\n",
    "PS = PorterStemmer()\n",
    "\n",
    "# Perform stemming on words\n",
    "stem_words = []\n",
    "for word in no_stops_words:\n",
    "    stem_word = PS.stem(word)\n",
    "    stem_words.append(stem_word)"
   ]
  },
  {
   "cell_type": "code",
   "execution_count": 14,
   "metadata": {
    "collapsed": false
   },
   "outputs": [
    {
     "data": {
      "text/plain": [
       "[(u'work', 2234),\n",
       " (u'manag', 1887),\n",
       " (u'experi', 1806),\n",
       " (u'develop', 1562),\n",
       " (u'client', 1276),\n",
       " (u'role', 1241),\n",
       " (u'team', 1237),\n",
       " (u'busi', 1179),\n",
       " (u'requir', 1122),\n",
       " (u'skill', 1064)]"
      ]
     },
     "execution_count": 14,
     "metadata": {},
     "output_type": "execute_result"
    }
   ],
   "source": [
    "# Find 10 most frequent words\n",
    "words_freq_no_stops = nltk.FreqDist(stem_words)\n",
    "top10_words = words_freq_no_stops.most_common()[:10]\n",
    "\n",
    "top10_words"
   ]
  },
  {
   "cell_type": "markdown",
   "metadata": {
    "collapsed": true
   },
   "source": [
    "Due to the size of the data set, we chose to use stemming rather than lemmatization. This resulted in a list of the top 10 word stems rather than words themselves or lemmas. However, given the context, the lemmas for each stem can be estimated. \n",
    "\n",
    "The 10 most frequent word stems with their likely associated lemmas are listed below, along with their respective frequencies:\n",
    "1. 'work' (work) - 2141\n",
    "2. 'manag' (manage) - 2049\n",
    "3. 'experi'(experience) - 1642\n",
    "4. 'role' (role) - 1246\n",
    "5. 'team' (team) - 1226\n",
    "6. 'busi' (business) - 1213\n",
    "7. 'client' (client) - 1206\n",
    "8. 'develop' (develop) - 1150\n",
    "9. 'requir' (require) - 1018\n",
    "10. 'servic' (service) - 1017"
   ]
  },
  {
   "cell_type": "markdown",
   "metadata": {},
   "source": [
    "# Part B (Salary Prediction)"
   ]
  },
  {
   "cell_type": "code",
   "execution_count": 52,
   "metadata": {
    "collapsed": false
   },
   "outputs": [
    {
     "data": {
      "text/html": [
       "<div>\n",
       "<table border=\"1\" class=\"dataframe\">\n",
       "  <thead>\n",
       "    <tr style=\"text-align: right;\">\n",
       "      <th></th>\n",
       "      <th>index</th>\n",
       "      <th>Id</th>\n",
       "      <th>Title</th>\n",
       "      <th>FullDescription</th>\n",
       "      <th>LocationRaw</th>\n",
       "      <th>LocationNormalized</th>\n",
       "      <th>ContractType</th>\n",
       "      <th>ContractTime</th>\n",
       "      <th>Company</th>\n",
       "      <th>Category</th>\n",
       "      <th>SalaryRaw</th>\n",
       "      <th>SalaryNormalized</th>\n",
       "      <th>SourceName</th>\n",
       "      <th>salary_class</th>\n",
       "    </tr>\n",
       "  </thead>\n",
       "  <tbody>\n",
       "    <tr>\n",
       "      <th>0</th>\n",
       "      <td>46285</td>\n",
       "      <td>68562718</td>\n",
       "      <td>Doctor : SHO in A&amp;E ****HCLaga****</td>\n",
       "      <td>HCL Permanent, the UK`s leading permanent heal...</td>\n",
       "      <td>Essex</td>\n",
       "      <td>Essex</td>\n",
       "      <td>NaN</td>\n",
       "      <td>permanent</td>\n",
       "      <td>NaN</td>\n",
       "      <td>Healthcare &amp; Nursing Jobs</td>\n",
       "      <td>29705 - 46708. Frequency: Annually</td>\n",
       "      <td>38206</td>\n",
       "      <td>jobs4medical.co.uk</td>\n",
       "      <td>low</td>\n",
       "    </tr>\n",
       "    <tr>\n",
       "      <th>1</th>\n",
       "      <td>176223</td>\n",
       "      <td>71468209</td>\n",
       "      <td>I'm looking for job as babysitter</td>\n",
       "      <td>I am 21 years old coming from Czech Republic a...</td>\n",
       "      <td>Feltham</td>\n",
       "      <td>Feltham</td>\n",
       "      <td>NaN</td>\n",
       "      <td>NaN</td>\n",
       "      <td>NaN</td>\n",
       "      <td>Domestic help &amp; Cleaning Jobs</td>\n",
       "      <td>8 per Hour</td>\n",
       "      <td>15360</td>\n",
       "      <td>findababysitter.com</td>\n",
       "      <td>low</td>\n",
       "    </tr>\n",
       "    <tr>\n",
       "      <th>2</th>\n",
       "      <td>164045</td>\n",
       "      <td>71231249</td>\n",
       "      <td>Draftsman</td>\n",
       "      <td>This position is to provide details, designs a...</td>\n",
       "      <td>Midlands</td>\n",
       "      <td>East Midlands</td>\n",
       "      <td>NaN</td>\n",
       "      <td>permanent</td>\n",
       "      <td>Michael Page International PLC</td>\n",
       "      <td>Engineering Jobs</td>\n",
       "      <td>20000 to 25000</td>\n",
       "      <td>22500</td>\n",
       "      <td>justengineers.net</td>\n",
       "      <td>low</td>\n",
       "    </tr>\n",
       "    <tr>\n",
       "      <th>3</th>\n",
       "      <td>47751</td>\n",
       "      <td>68580454</td>\n",
       "      <td>Depot Manager</td>\n",
       "      <td>circa ****  car 10% bonus  Has overall respons...</td>\n",
       "      <td>Greater London, North London</td>\n",
       "      <td>London</td>\n",
       "      <td>NaN</td>\n",
       "      <td>NaN</td>\n",
       "      <td>New Century Recruitment</td>\n",
       "      <td>Other/General Jobs</td>\n",
       "      <td>50,000-74,999 yearly</td>\n",
       "      <td>62499</td>\n",
       "      <td>theladders.co.uk</td>\n",
       "      <td>high</td>\n",
       "    </tr>\n",
       "    <tr>\n",
       "      <th>4</th>\n",
       "      <td>100493</td>\n",
       "      <td>69540418</td>\n",
       "      <td>Lettings and Sales Negotiators</td>\n",
       "      <td>Lettings &amp; Sales NegotiatorsNorth West London ...</td>\n",
       "      <td>North West London, South East</td>\n",
       "      <td>London</td>\n",
       "      <td>NaN</td>\n",
       "      <td>permanent</td>\n",
       "      <td>Liquid</td>\n",
       "      <td>Sales Jobs</td>\n",
       "      <td>25000 - 35000/annum OTE</td>\n",
       "      <td>30000</td>\n",
       "      <td>cv-library.co.uk</td>\n",
       "      <td>low</td>\n",
       "    </tr>\n",
       "  </tbody>\n",
       "</table>\n",
       "</div>"
      ],
      "text/plain": [
       "    index        Id                               Title  \\\n",
       "0   46285  68562718  Doctor : SHO in A&E ****HCLaga****   \n",
       "1  176223  71468209   I'm looking for job as babysitter   \n",
       "2  164045  71231249                           Draftsman   \n",
       "3   47751  68580454                       Depot Manager   \n",
       "4  100493  69540418      Lettings and Sales Negotiators   \n",
       "\n",
       "                                     FullDescription  \\\n",
       "0  HCL Permanent, the UK`s leading permanent heal...   \n",
       "1  I am 21 years old coming from Czech Republic a...   \n",
       "2  This position is to provide details, designs a...   \n",
       "3  circa ****  car 10% bonus  Has overall respons...   \n",
       "4  Lettings & Sales NegotiatorsNorth West London ...   \n",
       "\n",
       "                     LocationRaw LocationNormalized ContractType ContractTime  \\\n",
       "0                          Essex              Essex          NaN    permanent   \n",
       "1                        Feltham            Feltham          NaN          NaN   \n",
       "2                       Midlands      East Midlands          NaN    permanent   \n",
       "3   Greater London, North London             London          NaN          NaN   \n",
       "4  North West London, South East             London          NaN    permanent   \n",
       "\n",
       "                          Company                       Category  \\\n",
       "0                             NaN      Healthcare & Nursing Jobs   \n",
       "1                             NaN  Domestic help & Cleaning Jobs   \n",
       "2  Michael Page International PLC               Engineering Jobs   \n",
       "3         New Century Recruitment             Other/General Jobs   \n",
       "4                          Liquid                     Sales Jobs   \n",
       "\n",
       "                            SalaryRaw  SalaryNormalized           SourceName  \\\n",
       "0  29705 - 46708. Frequency: Annually             38206   jobs4medical.co.uk   \n",
       "1                          8 per Hour             15360  findababysitter.com   \n",
       "2                      20000 to 25000             22500    justengineers.net   \n",
       "3                50,000-74,999 yearly             62499     theladders.co.uk   \n",
       "4             25000 - 35000/annum OTE             30000     cv-library.co.uk   \n",
       "\n",
       "  salary_class  \n",
       "0          low  \n",
       "1          low  \n",
       "2          low  \n",
       "3         high  \n",
       "4          low  "
      ]
     },
     "execution_count": 52,
     "metadata": {},
     "output_type": "execute_result"
    }
   ],
   "source": [
    "#Create new classifier for job posting salaries in the top quartile\n",
    "sal_75 = train_sample['SalaryNormalized'].quantile(.75)\n",
    "\n",
    "train_sample['salary_class'] = np.where(train_sample['SalaryNormalized']>=sal_75,'high','low')\n",
    "\n",
    "train_sample.head()"
   ]
  },
  {
   "cell_type": "code",
   "execution_count": 53,
   "metadata": {
    "collapsed": false
   },
   "outputs": [],
   "source": [
    "#Create two separate lists for text and salary classifier for each job posting\n",
    "descriptions = []\n",
    "pay_class = []\n",
    "\n",
    "for index, value in train_sample.iterrows():\n",
    "    descriptions.append(value['FullDescription'])\n",
    "    pay_class.append(value['salary_class'])"
   ]
  },
  {
   "cell_type": "code",
   "execution_count": 54,
   "metadata": {
    "collapsed": false
   },
   "outputs": [],
   "source": [
    "#Split data into test/training set\n",
    "trainset_size = int(round(len(train_sample)*0.75))\n",
    "\n",
    "X_train = np.array([''.join(el) for el in descriptions[0:trainset_size]])\n",
    "y_train = np.array([el for el in pay_class[0:trainset_size]])\n",
    "\n",
    "X_test = np.array([''.join(el) for el in descriptions[trainset_size+1:len(descriptions)]]) \n",
    "y_test = np.array([el for el in pay_class[trainset_size+1:len(pay_class)]]) "
   ]
  },
  {
   "cell_type": "code",
   "execution_count": 55,
   "metadata": {
    "collapsed": false
   },
   "outputs": [],
   "source": [
    "from sklearn.feature_extraction.text import TfidfVectorizer\n",
    "#Create TF IDF Matrix\n",
    "vectorizer = TfidfVectorizer(min_df=2, \n",
    " ngram_range=(1, 1), \n",
    " stop_words='english', \n",
    " strip_accents='unicode', \n",
    " norm='l2')\n",
    "\n",
    "X_train = vectorizer.fit_transform(X_train)\n",
    "X_test = vectorizer.transform(X_test)"
   ]
  },
  {
   "cell_type": "code",
   "execution_count": 56,
   "metadata": {
    "collapsed": true
   },
   "outputs": [],
   "source": [
    "from sklearn.naive_bayes import MultinomialNB\n",
    "\n",
    "#Run Naive Bayes Classifier\n",
    "nb_classifier = MultinomialNB().fit(X_train, y_train)\n",
    "\n",
    "y_nb_predicted = nb_classifier.predict(X_test)"
   ]
  },
  {
   "cell_type": "code",
   "execution_count": 28,
   "metadata": {
    "collapsed": true
   },
   "outputs": [
    {
     "data": {
      "text/plain": [
       "array(['low', 'low', 'low', 'low', 'low', 'low', 'low', 'low', 'low',\n",
       "       'low', 'low', 'low', 'low', 'low', 'low', 'low', 'low', 'low',\n",
       "       'low', 'low', 'low', 'low', 'low', 'low', 'low', 'low', 'low',\n",
       "       'low', 'low', 'low', 'low', 'low', 'low', 'low', 'low', 'low',\n",
       "       'low', 'low', 'low', 'low', 'low', 'low', 'low', 'low', 'low',\n",
       "       'low', 'low', 'low', 'low', 'low', 'low', 'low', 'low', 'low',\n",
       "       'low', 'low', 'low', 'low', 'low', 'low', 'low', 'low', 'low',\n",
       "       'low', 'low', 'low', 'low', 'low', 'low', 'low', 'low', 'low',\n",
       "       'low', 'low', 'low', 'low', 'low', 'low', 'low', 'low', 'low',\n",
       "       'low', 'low', 'low', 'low', 'low', 'low', 'low', 'low', 'low',\n",
       "       'low', 'low', 'low', 'low', 'low', 'low', 'low', 'low', 'low',\n",
       "       'low', 'low', 'low', 'low', 'low', 'low', 'low', 'low', 'low',\n",
       "       'low', 'low', 'low', 'low', 'low', 'low', 'low', 'low', 'low',\n",
       "       'low', 'low', 'low', 'low', 'low', 'low', 'low', 'low', 'low',\n",
       "       'low', 'low', 'low', 'low', 'low', 'low', 'low', 'low', 'low',\n",
       "       'low', 'low', 'low', 'low', 'low', 'low', 'low', 'low', 'low',\n",
       "       'low', 'low', 'low', 'low', 'low', 'low', 'low', 'low', 'low',\n",
       "       'low', 'low', 'low', 'low', 'low', 'low', 'low', 'low', 'low',\n",
       "       'low', 'low', 'low', 'low', 'low', 'low', 'low', 'low', 'low',\n",
       "       'low', 'low', 'low', 'low', 'low', 'low', 'low', 'low', 'low',\n",
       "       'low', 'low', 'low', 'low', 'low', 'low', 'low', 'low', 'low',\n",
       "       'low', 'low', 'low', 'low', 'low', 'low', 'low', 'low', 'low',\n",
       "       'low', 'low', 'low', 'low', 'low', 'low', 'low', 'low', 'low',\n",
       "       'low', 'low', 'low', 'low', 'low', 'low', 'low', 'low', 'low',\n",
       "       'low', 'low', 'low', 'low', 'low', 'low', 'low', 'low', 'low',\n",
       "       'low', 'low', 'low', 'low', 'low', 'low', 'low', 'low', 'low',\n",
       "       'low', 'low', 'low', 'low', 'low', 'low', 'low', 'low', 'low',\n",
       "       'low', 'low', 'low', 'low', 'low', 'low'], \n",
       "      dtype='|S4')"
      ]
     },
     "execution_count": 28,
     "metadata": {},
     "output_type": "execute_result"
    }
   ],
   "source": [
    "y_nb_predicted"
   ]
  },
  {
   "cell_type": "code",
   "execution_count": 57,
   "metadata": {
    "collapsed": false
   },
   "outputs": [
    {
     "name": "stdout",
     "output_type": "stream",
     "text": [
      "Precision:0.826896537931\n",
      "Recall: 0.826896537931\n",
      "Accuracy: 0.826896537931\n"
     ]
    }
   ],
   "source": [
    "from sklearn import metrics\n",
    "print 'Precision:' + str(metrics.precision_score(y_test, y_nb_predicted, average = 'micro', pos_label=None))\n",
    "print 'Recall: ' + str(metrics.recall_score(y_test, y_nb_predicted, average = 'micro', pos_label=None))\n",
    "print 'Accuracy: ' + str(metrics.accuracy_score(y_test, y_nb_predicted))"
   ]
  },
  {
   "cell_type": "code",
   "execution_count": 58,
   "metadata": {
    "collapsed": false
   },
   "outputs": [
    {
     "data": {
      "image/png": "[encoded data removed]",
      "text/plain": [
       "<matplotlib.figure.Figure at 0x2de66780>"
      ]
     },
     "metadata": {},
     "output_type": "display_data"
    }
   ],
   "source": [
    "#Fancy boy confusion matrix\n",
    "import seaborn as sns; sns.set()\n",
    "\n",
    "mat = metrics.confusion_matrix(y_test, y_nb_predicted)\n",
    "sns.heatmap(mat.T, square=True, annot=True, fmt='d', cbar=True,\n",
    "            xticklabels=unique(pay_class), yticklabels=unique(pay_class))\n",
    "plt.xlabel('Actual Salary Level')\n",
    "plt.ylabel('Predicted Salary Level');"
   ]
  },
  {
   "cell_type": "markdown",
   "metadata": {},
   "source": [
    "### Top 10 Words Most Indicative of High/Low Salary"
   ]
  },
  {
   "cell_type": "code",
   "execution_count": 59,
   "metadata": {
    "collapsed": true
   },
   "outputs": [],
   "source": [
    "def most_informative_features(vectorizer, classifier, n=10):\n",
    "    class_labels = classifier.classes_\n",
    "    feature_names = vectorizer.get_feature_names()\n",
    "    topn_class1 = sorted(zip(classifier.coef_[0], feature_names))[:n]\n",
    "    topn_class2 = sorted(zip(classifier.coef_[0], feature_names))[-n:]\n",
    "\n",
    "    for coef, feat in topn_class1:\n",
    "        print class_labels[0], coef, feat\n",
    "\n",
    "    print\n",
    "\n",
    "    for coef, feat in reversed(topn_class2):\n",
    "        print class_labels[1], coef, feat"
   ]
  },
  {
   "cell_type": "code",
   "execution_count": 60,
   "metadata": {
    "collapsed": false
   },
   "outputs": [
    {
     "name": "stdout",
     "output_type": "stream",
     "text": [
      "high -13.7957145656 000micro\n",
      "high -13.7957145656 0032010\n",
      "high -13.7957145656 00525\n",
      "high -13.7957145656 0207\n",
      "high -13.7957145656 03feb13\n",
      "high -13.7957145656 04feb13\n",
      "high -13.7957145656 050m\n",
      "high -13.7957145656 0541\n",
      "high -13.7957145656 05feb13\n",
      "high -13.7957145656 078272\n",
      "\n",
      "low -5.58397103476 sales\n",
      "low -5.62403393158 experience\n",
      "low -5.79009682382 work\n",
      "low -5.79832769556 role\n",
      "low -5.88959985797 team\n",
      "low -5.9081126489 business\n",
      "low -5.93690969448 skills\n",
      "low -5.94609552272 working\n",
      "low -6.00705863679 manager\n",
      "low -6.035527465 client\n"
     ]
    }
   ],
   "source": [
    "most_informative_features(vectorizer, nb_classifier)"
   ]
  },
  {
   "cell_type": "code",
   "execution_count": null,
   "metadata": {
    "collapsed": true
   },
   "outputs": [],
   "source": []
  }
 ],
 "metadata": {
  "anaconda-cloud": {},
  "kernelspec": {
   "display_name": "Python 2",
   "language": "python",
   "name": "python2"
  },
  "language_info": {
   "codemirror_mode": {
    "name": "ipython",
    "version": 2
   },
   "file_extension": ".py",
   "mimetype": "text/x-python",
   "name": "python",
   "nbconvert_exporter": "python",
   "pygments_lexer": "ipython2",
   "version": "2.7.11"
  }
 },
 "nbformat": 4,
 "nbformat_minor": 0
}
