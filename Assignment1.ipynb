{
 "cells": [
  {
   "cell_type": "code",
   "execution_count": 18,
   "metadata": {
    "collapsed": false
   },
   "outputs": [
    {
     "name": "stdout",
     "output_type": "stream",
     "text": [
      "Populating the interactive namespace from numpy and matplotlib\n"
     ]
    },
    {
     "name": "stderr",
     "output_type": "stream",
     "text": [
      "WARNING: pylab import has clobbered these variables: ['zipf']\n",
      "`%matplotlib` prevents importing * from pylab and numpy\n"
     ]
    }
   ],
   "source": [
    "from pandas import Series, DataFrame\n",
    "import pandas as pd\n",
    "import nltk\n",
    "%pylab inline "
   ]
  },
  {
   "cell_type": "code",
   "execution_count": 19,
   "metadata": {
    "collapsed": false
   },
   "outputs": [
    {
     "data": {
      "text/html": [
       "<div>\n",
       "<table border=\"1\" class=\"dataframe\">\n",
       "  <thead>\n",
       "    <tr style=\"text-align: right;\">\n",
       "      <th></th>\n",
       "      <th>Id</th>\n",
       "      <th>Title</th>\n",
       "      <th>FullDescription</th>\n",
       "      <th>LocationRaw</th>\n",
       "      <th>LocationNormalized</th>\n",
       "      <th>ContractType</th>\n",
       "      <th>ContractTime</th>\n",
       "      <th>Company</th>\n",
       "      <th>Category</th>\n",
       "      <th>SalaryRaw</th>\n",
       "      <th>SalaryNormalized</th>\n",
       "      <th>SourceName</th>\n",
       "    </tr>\n",
       "  </thead>\n",
       "  <tbody>\n",
       "    <tr>\n",
       "      <th>0</th>\n",
       "      <td>12612628</td>\n",
       "      <td>Engineering Systems Analyst</td>\n",
       "      <td>Engineering Systems Analyst Dorking Surrey Sal...</td>\n",
       "      <td>Dorking, Surrey, Surrey</td>\n",
       "      <td>Dorking</td>\n",
       "      <td>NaN</td>\n",
       "      <td>permanent</td>\n",
       "      <td>Gregory Martin International</td>\n",
       "      <td>Engineering Jobs</td>\n",
       "      <td>20000 - 30000/annum 20-30K</td>\n",
       "      <td>25000</td>\n",
       "      <td>cv-library.co.uk</td>\n",
       "    </tr>\n",
       "    <tr>\n",
       "      <th>1</th>\n",
       "      <td>12612830</td>\n",
       "      <td>Stress Engineer Glasgow</td>\n",
       "      <td>Stress Engineer Glasgow Salary **** to **** We...</td>\n",
       "      <td>Glasgow, Scotland, Scotland</td>\n",
       "      <td>Glasgow</td>\n",
       "      <td>NaN</td>\n",
       "      <td>permanent</td>\n",
       "      <td>Gregory Martin International</td>\n",
       "      <td>Engineering Jobs</td>\n",
       "      <td>25000 - 35000/annum 25-35K</td>\n",
       "      <td>30000</td>\n",
       "      <td>cv-library.co.uk</td>\n",
       "    </tr>\n",
       "    <tr>\n",
       "      <th>2</th>\n",
       "      <td>12612844</td>\n",
       "      <td>Modelling and simulation analyst</td>\n",
       "      <td>Mathematical Modeller / Simulation Analyst / O...</td>\n",
       "      <td>Hampshire, South East, South East</td>\n",
       "      <td>Hampshire</td>\n",
       "      <td>NaN</td>\n",
       "      <td>permanent</td>\n",
       "      <td>Gregory Martin International</td>\n",
       "      <td>Engineering Jobs</td>\n",
       "      <td>20000 - 40000/annum 20-40K</td>\n",
       "      <td>30000</td>\n",
       "      <td>cv-library.co.uk</td>\n",
       "    </tr>\n",
       "  </tbody>\n",
       "</table>\n",
       "</div>"
      ],
      "text/plain": [
       "         Id                             Title  \\\n",
       "0  12612628       Engineering Systems Analyst   \n",
       "1  12612830           Stress Engineer Glasgow   \n",
       "2  12612844  Modelling and simulation analyst   \n",
       "\n",
       "                                     FullDescription  \\\n",
       "0  Engineering Systems Analyst Dorking Surrey Sal...   \n",
       "1  Stress Engineer Glasgow Salary **** to **** We...   \n",
       "2  Mathematical Modeller / Simulation Analyst / O...   \n",
       "\n",
       "                         LocationRaw LocationNormalized ContractType  \\\n",
       "0            Dorking, Surrey, Surrey            Dorking          NaN   \n",
       "1        Glasgow, Scotland, Scotland            Glasgow          NaN   \n",
       "2  Hampshire, South East, South East          Hampshire          NaN   \n",
       "\n",
       "  ContractTime                       Company          Category  \\\n",
       "0    permanent  Gregory Martin International  Engineering Jobs   \n",
       "1    permanent  Gregory Martin International  Engineering Jobs   \n",
       "2    permanent  Gregory Martin International  Engineering Jobs   \n",
       "\n",
       "                    SalaryRaw  SalaryNormalized        SourceName  \n",
       "0  20000 - 30000/annum 20-30K             25000  cv-library.co.uk  \n",
       "1  25000 - 35000/annum 25-35K             30000  cv-library.co.uk  \n",
       "2  20000 - 40000/annum 20-40K             30000  cv-library.co.uk  "
      ]
     },
     "execution_count": 19,
     "metadata": {},
     "output_type": "execute_result"
    }
   ],
   "source": [
    "train = pd.read_csv(\"C:/Users/Sean/Desktop/Fall 2016/Text_Analytics/Train_rev1.csv\") # 244,768 records\n",
    "train[:3]"
   ]
  },
  {
   "cell_type": "code",
   "execution_count": 20,
   "metadata": {
    "collapsed": true
   },
   "outputs": [],
   "source": [
    "train_sample = train.sample(1000).reset_index() # Creates sample of 1000 job descriptions"
   ]
  },
  {
   "cell_type": "markdown",
   "metadata": {},
   "source": [
    "# Part A (Basic Text Mining)"
   ]
  },
  {
   "cell_type": "code",
   "execution_count": 21,
   "metadata": {
    "collapsed": false
   },
   "outputs": [],
   "source": [
    "# Tokenize all job descriptions\n",
    "train_sample['tokenized_strip'] = train_sample.apply(lambda row: row['FullDescription'].decode('utf-8').strip(),axis=1)\n",
    "train_sample['tokenized'] = train_sample.apply(lambda row: nltk.word_tokenize(row['tokenized_strip']),axis=1)"
   ]
  },
  {
   "cell_type": "code",
   "execution_count": 22,
   "metadata": {
    "collapsed": false
   },
   "outputs": [],
   "source": [
    "# Get part of speech tags for each token in each description\n",
    "train_sample['PoS'] = train_sample.apply(lambda row: nltk.pos_tag(row['tokenized']), axis=1)"
   ]
  },
  {
   "cell_type": "markdown",
   "metadata": {},
   "source": [
    "## A1. Top 5 Parts of Speech in Corpus"
   ]
  },
  {
   "cell_type": "code",
   "execution_count": 23,
   "metadata": {
    "collapsed": false
   },
   "outputs": [],
   "source": [
    "# Create list of all tokens in corpus\n",
    "all_tokens = []\n",
    "for i in range(len(train_sample['tokenized'])):\n",
    "    all_tokens = all_tokens + train_sample['tokenized'][i]"
   ]
  },
  {
   "cell_type": "code",
   "execution_count": 24,
   "metadata": {
    "collapsed": false
   },
   "outputs": [],
   "source": [
    "# Get part of speech tags for all tokens in corpus\n",
    "all_PoS = nltk.pos_tag(all_tokens)"
   ]
  },
  {
   "cell_type": "code",
   "execution_count": 25,
   "metadata": {
    "collapsed": false
   },
   "outputs": [
    {
     "data": {
      "text/plain": [
       "[('NN', 48210), ('NNP', 34811), ('IN', 27216), ('JJ', 22555), ('DT', 20905)]"
      ]
     },
     "execution_count": 25,
     "metadata": {},
     "output_type": "execute_result"
    }
   ],
   "source": [
    "tokens, PoS = zip(*all_PoS) # Unzip all_PoS to separate list of tokens from list of parts of speech\n",
    "PoS_freq = nltk.FreqDist(PoS) # Frequency of each part of speech\n",
    "top5_PoS = PoS_freq.most_common()[:5] # 5 most frequent parts of speech in corpus\n",
    "top5_PoS"
   ]
  },
  {
   "cell_type": "markdown",
   "metadata": {},
   "source": [
    "The 5 most common parts of speech in this corpus along with their respective frequencies are:\n",
    "1. Noun, singular or mass: 46,389\n",
    "2. Proper noun, singular: 33,742\n",
    "3. Preposition or Subordinating Conjunction: 25,724\n",
    "4. Adjective: 22,063\n",
    "5. Determiner: 20,188"
   ]
  },
  {
   "cell_type": "markdown",
   "metadata": {},
   "source": [
    "## A2. Zipf's Law, 100 Most Common Words"
   ]
  },
  {
   "cell_type": "code",
   "execution_count": 26,
   "metadata": {
    "collapsed": true
   },
   "outputs": [],
   "source": [
    "from nltk.tokenize import RegexpTokenizer\n",
    "word_tokenizer = RegexpTokenizer(r'\\w+')\n",
    "\n",
    "# Get list of words without punctuation for each job description\n",
    "train_sample['tokenized_words'] = train_sample.apply(lambda row: word_tokenizer.tokenize(row['tokenized_strip']),axis=1)\n",
    "\n",
    "# Create list of words from all job descriptions\n",
    "all_words = []\n",
    "for i in range(len(train_sample['tokenized_words'])):\n",
    "    all_words = all_words + train_sample['tokenized_words'][i]\n",
    "\n",
    "# Make all words lowercase\n",
    "words_lower = []\n",
    "for word in all_words:\n",
    "    words_lower.append(word.lower())"
   ]
  },
  {
   "cell_type": "code",
   "execution_count": 27,
   "metadata": {
    "collapsed": false
   },
   "outputs": [
    {
     "data": {
      "text/plain": [
       "<matplotlib.text.Text at 0x2321d1d0>"
      ]
     },
     "execution_count": 27,
     "metadata": {},
     "output_type": "execute_result"
    },
    {
     "data": {
      "image/png": "[encoded data removed]",
      "text/plain": [
       "<matplotlib.figure.Figure at 0x26f14630>"
      ]
     },
     "metadata": {},
     "output_type": "display_data"
    }
   ],
   "source": [
    "# Find 100 most frequent words\n",
    "words_freq = nltk.FreqDist(words_lower)\n",
    "top100_words = words_freq.most_common()[:100]\n",
    "\n",
    "# Get values for expected frequency of top 100 words using Zipf's Law\n",
    "max_freq = top100_words[0][1]\n",
    "counter = 1\n",
    "zipf = []\n",
    "while len(zipf) < 100:\n",
    "    zipf.append(max_freq/counter)\n",
    "    counter += 1\n",
    "\n",
    "# Plot actual frequencies and Zipf frequencies\n",
    "plot([b for (a,b) in top100_words], label = 'Word Frequency') # Blue\n",
    "plot(zipf, label = 'Zipf Predicted Frequency') # Green\n",
    "legend(loc='best')\n",
    "xlabel('Rank')\n",
    "ylabel('Frequency')"
   ]
  },
  {
   "cell_type": "markdown",
   "metadata": {},
   "source": [
    "## Top 10 Words after Stemming and Removing Stop Words"
   ]
  },
  {
   "cell_type": "code",
   "execution_count": 28,
   "metadata": {
    "collapsed": false
   },
   "outputs": [],
   "source": [
    "# Remove stop words\n",
    "from nltk.corpus import stopwords\n",
    "no_stops_words = [word for word in words_lower if word not in stopwords.words('english')]"
   ]
  },
  {
   "cell_type": "code",
   "execution_count": 29,
   "metadata": {
    "collapsed": false
   },
   "outputs": [],
   "source": [
    "from nltk.stem.porter import PorterStemmer\n",
    "PS = PorterStemmer()\n",
    "\n",
    "# Perform stemming on words\n",
    "stem_words = []\n",
    "for word in no_stops_words:\n",
    "    stem_word = PS.stem(word)\n",
    "    stem_words.append(stem_word)"
   ]
  },
  {
   "cell_type": "code",
   "execution_count": 30,
   "metadata": {
    "collapsed": false
   },
   "outputs": [
    {
     "data": {
      "text/plain": [
       "[(u'work', 2324),\n",
       " (u'manag', 2314),\n",
       " (u'experi', 1949),\n",
       " (u'develop', 1466),\n",
       " (u'team', 1379),\n",
       " (u'role', 1307),\n",
       " (u'client', 1199),\n",
       " (u'servic', 1122),\n",
       " (u'busi', 1099),\n",
       " (u'skill', 1077)]"
      ]
     },
     "execution_count": 30,
     "metadata": {},
     "output_type": "execute_result"
    }
   ],
   "source": [
    "# Find 10 most frequent words\n",
    "words_freq_no_stops = nltk.FreqDist(stem_words)\n",
    "top10_words = words_freq_no_stops.most_common()[:10]\n",
    "\n",
    "top10_words"
   ]
  },
  {
   "cell_type": "markdown",
   "metadata": {
    "collapsed": true
   },
   "source": [
    "Due to the size of the data set, we chose to use stemming rather than lemmatization. This resulted in a list of the top 10 word stems rather than words themselves or lemmas. However, given the context, the lemmas for each stem can be estimated. \n",
    "\n",
    "The 10 most frequent word stems with their likely associated lemmas are listed below, along with their respective frequencies:\n",
    "1. 'work' (work) - 2141\n",
    "2. 'manag' (manage) - 2049\n",
    "3. 'experi'(experience) - 1642\n",
    "4. 'role' (role) - 1246\n",
    "5. 'team' (team) - 1226\n",
    "6. 'busi' (business) - 1213\n",
    "7. 'client' (client) - 1206\n",
    "8. 'develop' (develop) - 1150\n",
    "9. 'requir' (require) - 1018\n",
    "10. 'servic' (service) - 1017"
   ]
  },
  {
   "cell_type": "markdown",
   "metadata": {},
   "source": [
    "### B2. Lemmatization (run with stopwords included... B3 is without stopwords)"
   ]
  },
  {
   "cell_type": "code",
   "execution_count": 38,
   "metadata": {
    "collapsed": true
   },
   "outputs": [],
   "source": [
    "from nltk.stem import WordNetLemmatizer"
   ]
  },
  {
   "cell_type": "code",
   "execution_count": 52,
   "metadata": {
    "collapsed": true
   },
   "outputs": [],
   "source": [
    "wnl = WordNetLemmatizer()"
   ]
  },
  {
   "cell_type": "code",
   "execution_count": 61,
   "metadata": {
    "collapsed": false
   },
   "outputs": [],
   "source": [
    "# lem_list: A list of all lemmatized words\n",
    "lem_list = []\n",
    "for i in words_lower:\n",
    "    lem_list.append(wnl.lemmatize(i))\n",
    "\n"
   ]
  },
  {
   "cell_type": "code",
   "execution_count": null,
   "metadata": {
    "collapsed": true
   },
   "outputs": [],
   "source": [
    "## use naive bayes on lem_list"
   ]
  },
  {
   "cell_type": "markdown",
   "metadata": {},
   "source": [
    "### B3:"
   ]
  },
  {
   "cell_type": "code",
   "execution_count": 62,
   "metadata": {
    "collapsed": false
   },
   "outputs": [],
   "source": [
    "\n",
    "lem_list_no_stop = []\n",
    "for i in no_stops_words:\n",
    "    lem_list_no_stop.append(wnl.lemmatize(i))\n"
   ]
  },
  {
   "cell_type": "code",
   "execution_count": null,
   "metadata": {
    "collapsed": true
   },
   "outputs": [],
   "source": [
    "## use naive bayes on lem_list_no_stop"
   ]
  }
 ],
 "metadata": {
  "anaconda-cloud": {},
  "kernelspec": {
   "display_name": "Python 2",
   "language": "python",
   "name": "python2"
  },
  "language_info": {
   "codemirror_mode": {
    "name": "ipython",
    "version": 2
   },
   "file_extension": ".py",
   "mimetype": "text/x-python",
   "name": "python",
   "nbconvert_exporter": "python",
   "pygments_lexer": "ipython2",
   "version": "2.7.12"
  }
 },
 "nbformat": 4,
 "nbformat_minor": 0
}
